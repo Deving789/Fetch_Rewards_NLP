{
  "nbformat": 4,
  "nbformat_minor": 0,
  "metadata": {
    "colab": {
      "name": "Fetch_NLP.ipynb",
      "provenance": [],
      "collapsed_sections": []
    },
    "kernelspec": {
      "name": "python3",
      "display_name": "Python 3"
    }
  },
  "cells": [
    {
      "cell_type": "code",
      "metadata": {
        "colab": {
          "base_uri": "https://localhost:8080/"
        },
        "id": "OiAuyijfES60",
        "outputId": "ed593507-0a4f-4da5-cc5b-25b4c18b7e6a"
      },
      "source": [
        "import os\n",
        "# Find the latest version of spark 3.0  from http://www-us.apache.org/dist/spark/ and enter as the spark version\n",
        "# For example:\n",
        "# spark_version = 'spark-3.0.1'\n",
        "spark_version = 'spark-3.0.1'\n",
        "os.environ['SPARK_VERSION']=spark_version\n",
        "\n",
        "# Install Spark and Java\n",
        "!apt-get update\n",
        "!apt-get install openjdk-11-jdk-headless -qq > /dev/null\n",
        "!wget -q http://www-us.apache.org/dist/spark/$SPARK_VERSION/$SPARK_VERSION-bin-hadoop2.7.tgz\n",
        "!tar xf $SPARK_VERSION-bin-hadoop2.7.tgz\n",
        "!pip install -q findspark\n",
        "\n",
        "# Set Environment Variables\n",
        "import os\n",
        "os.environ[\"JAVA_HOME\"] = \"/usr/lib/jvm/java-11-openjdk-amd64\"\n",
        "os.environ[\"SPARK_HOME\"] = f\"/content/{spark_version}-bin-hadoop2.7\"\n",
        "\n",
        "# Start a SparkSession\n",
        "import findspark\n",
        "findspark.init()"
      ],
      "execution_count": 1,
      "outputs": [
        {
          "output_type": "stream",
          "text": [
            "Get:1 https://cloud.r-project.org/bin/linux/ubuntu bionic-cran40/ InRelease [3,626 B]\n",
            "Ign:2 https://developer.download.nvidia.com/compute/cuda/repos/ubuntu1804/x86_64  InRelease\n",
            "Get:3 http://security.ubuntu.com/ubuntu bionic-security InRelease [88.7 kB]\n",
            "Get:4 https://cloud.r-project.org/bin/linux/ubuntu bionic-cran40/ Packages [41.5 kB]\n",
            "Ign:5 https://developer.download.nvidia.com/compute/machine-learning/repos/ubuntu1804/x86_64  InRelease\n",
            "Hit:6 https://developer.download.nvidia.com/compute/cuda/repos/ubuntu1804/x86_64  Release\n",
            "Get:7 http://ppa.launchpad.net/c2d4u.team/c2d4u4.0+/ubuntu bionic InRelease [15.9 kB]\n",
            "Hit:8 https://developer.download.nvidia.com/compute/machine-learning/repos/ubuntu1804/x86_64  Release\n",
            "Hit:10 http://archive.ubuntu.com/ubuntu bionic InRelease\n",
            "Get:12 http://archive.ubuntu.com/ubuntu bionic-updates InRelease [88.7 kB]\n",
            "Hit:13 http://ppa.launchpad.net/cran/libgit2/ubuntu bionic InRelease\n",
            "Hit:14 http://ppa.launchpad.net/graphics-drivers/ppa/ubuntu bionic InRelease\n",
            "Get:15 http://security.ubuntu.com/ubuntu bionic-security/universe amd64 Packages [1,376 kB]\n",
            "Get:16 http://archive.ubuntu.com/ubuntu bionic-backports InRelease [74.6 kB]\n",
            "Get:17 http://ppa.launchpad.net/c2d4u.team/c2d4u4.0+/ubuntu bionic/main Sources [1,704 kB]\n",
            "Get:18 http://archive.ubuntu.com/ubuntu bionic-updates/main amd64 Packages [2,273 kB]\n",
            "Get:19 http://security.ubuntu.com/ubuntu bionic-security/restricted amd64 Packages [247 kB]\n",
            "Get:20 http://security.ubuntu.com/ubuntu bionic-security/multiverse amd64 Packages [14.9 kB]\n",
            "Get:21 http://security.ubuntu.com/ubuntu bionic-security/main amd64 Packages [1,846 kB]\n",
            "Get:22 http://archive.ubuntu.com/ubuntu bionic-updates/universe amd64 Packages [2,140 kB]\n",
            "Get:23 http://archive.ubuntu.com/ubuntu bionic-updates/restricted amd64 Packages [277 kB]\n",
            "Get:24 http://archive.ubuntu.com/ubuntu bionic-updates/multiverse amd64 Packages [53.4 kB]\n",
            "Get:25 http://ppa.launchpad.net/c2d4u.team/c2d4u4.0+/ubuntu bionic/main amd64 Packages [873 kB]\n",
            "Fetched 11.1 MB in 6s (1,990 kB/s)\n",
            "Reading package lists... Done\n"
          ],
          "name": "stdout"
        }
      ]
    },
    {
      "cell_type": "code",
      "metadata": {
        "id": "syFcnhy_E6wi"
      },
      "source": [
        "# Start Spark session\n",
        "from pyspark.sql import SparkSession\n",
        "spark = SparkSession.builder.appName(\"fetch_NLP\").getOrCreate()"
      ],
      "execution_count": 3,
      "outputs": []
    },
    {
      "cell_type": "code",
      "metadata": {
        "colab": {
          "base_uri": "https://localhost:8080/"
        },
        "id": "tLJQCo1FFG1h",
        "outputId": "b5c6bed7-67e3-4670-de12-b2666673faf1"
      },
      "source": [
        "#read in dataframe 16.6.4\n",
        "df = spark.createDataFrame([\n",
        "                   (0,\"The easiest way to earn points with Fetch Rewards is to just shop for the products you already love. If you have any participating brands on your receipt, you'll get points based on the cost of the products. You don't need to clip any coupons or scan individual barcodes. Just scan each grocery receipt after you shop and we'll find the savings for you.\"),\n",
        "                   (1,\"The easiest way to earn points with Fetch Rewards is to just shop for the items you already buy. If you have any eligible brands on your receipt, you will get points based on the total cost of the products. You do not need to cut out any coupons or scan individual UPCs. Just scan your receipt after you check out and we will find the savings for you.\"),\n",
        "                   (2,\"We are always looking for opportunities for you to earn more points, which is why we also give you a selection of Special Offers. These Special Offers are opportunities to earn bonus points on top of the regular points you earn every time you purchase a participating brand. No need to pre-select these offers, we'll give you the points whether or not you knew about the offer. We just think it is easier that way.\")],['id','sentence'])\n",
        "\n",
        "# Show DataFrame\n",
        "df.show()"
      ],
      "execution_count": 4,
      "outputs": [
        {
          "output_type": "stream",
          "text": [
            "+---+--------------------+\n",
            "| id|            sentence|\n",
            "+---+--------------------+\n",
            "|  0|The easiest way t...|\n",
            "|  1|The easiest way t...|\n",
            "|  2|We are always loo...|\n",
            "+---+--------------------+\n",
            "\n"
          ],
          "name": "stdout"
        }
      ]
    },
    {
      "cell_type": "code",
      "metadata": {
        "id": "R1Fj1M0eFRMt"
      },
      "source": [
        "# Import functions\n",
        "from pyspark.ml.feature import HashingTF, IDF, Tokenizer, StopWordsRemover, StringIndexer"
      ],
      "execution_count": 24,
      "outputs": []
    },
    {
      "cell_type": "code",
      "metadata": {
        "colab": {
          "base_uri": "https://localhost:8080/"
        },
        "id": "b2nL0dTOFa1G",
        "outputId": "af06e1d8-374b-40ca-bd9e-ef6fbfb9cc70"
      },
      "source": [
        "from pyspark.sql.functions import length\n",
        "# Create a length column to be used as a future feature\n",
        "data_df = df.withColumn('length', length(df['sentence']))\n",
        "data_df.show()"
      ],
      "execution_count": 25,
      "outputs": [
        {
          "output_type": "stream",
          "text": [
            "+---+--------------------+------+\n",
            "| id|            sentence|length|\n",
            "+---+--------------------+------+\n",
            "|  0|The easiest way t...|   353|\n",
            "|  1|The easiest way t...|   351|\n",
            "|  2|We are always loo...|   414|\n",
            "+---+--------------------+------+\n",
            "\n"
          ],
          "name": "stdout"
        }
      ]
    },
    {
      "cell_type": "code",
      "metadata": {
        "colab": {
          "base_uri": "https://localhost:8080/"
        },
        "id": "9Tqp5_NqFeyH",
        "outputId": "7d962300-8aa1-4131-b643-c18a8727e5f5"
      },
      "source": [
        "# Tokenize DataFrame-- splitting the sentence into words\n",
        "tokened = Tokenizer(inputCol=\"sentence\", outputCol=\"words\")\n",
        "tokened_transformed = tokened.transform(df)\n",
        "tokened_transformed.show()"
      ],
      "execution_count": 26,
      "outputs": [
        {
          "output_type": "stream",
          "text": [
            "+---+--------------------+--------------------+\n",
            "| id|            sentence|               words|\n",
            "+---+--------------------+--------------------+\n",
            "|  0|The easiest way t...|[the, easiest, wa...|\n",
            "|  1|The easiest way t...|[the, easiest, wa...|\n",
            "|  2|We are always loo...|[we, are, always,...|\n",
            "+---+--------------------+--------------------+\n",
            "\n"
          ],
          "name": "stdout"
        }
      ]
    },
    {
      "cell_type": "code",
      "metadata": {
        "colab": {
          "base_uri": "https://localhost:8080/"
        },
        "id": "k9WFeVmsFyXv",
        "outputId": "54c64338-0bbb-4132-c262-b9fa17294a7f"
      },
      "source": [
        "# Remove stop words-- removing the un-important words from the sentence\n",
        "remover = StopWordsRemover(inputCol=\"words\", outputCol=\"filtered\")\n",
        "removed_frame = remover.transform(tokened_transformed)\n",
        "removed_frame.show(truncate=False)"
      ],
      "execution_count": 10,
      "outputs": [
        {
          "output_type": "stream",
          "text": [
            "+---+------------------------------------------------------------------------------------------------------------------------------------------------------------------------------------------------------------------------------------------------------------------------------------------------------------------------------------------------------------------------------------------------------------------------------+----------------------------------------------------------------------------------------------------------------------------------------------------------------------------------------------------------------------------------------------------------------------------------------------------------------------------------------------------------------------------------------------------------------------------------------------------------------------------------------------------------+------------------------------------------------------------------------------------------------------------------------------------------------------------------------------------------------------------------------------------------------------------------------------------------------------------+\n",
            "|id |sentence                                                                                                                                                                                                                                                                                                                                                                                                                      |words                                                                                                                                                                                                                                                                                                                                                                                                                                                                                                     |filtered                                                                                                                                                                                                                                                                                                    |\n",
            "+---+------------------------------------------------------------------------------------------------------------------------------------------------------------------------------------------------------------------------------------------------------------------------------------------------------------------------------------------------------------------------------------------------------------------------------+----------------------------------------------------------------------------------------------------------------------------------------------------------------------------------------------------------------------------------------------------------------------------------------------------------------------------------------------------------------------------------------------------------------------------------------------------------------------------------------------------------+------------------------------------------------------------------------------------------------------------------------------------------------------------------------------------------------------------------------------------------------------------------------------------------------------------+\n",
            "|0  |The easiest way to earn points with Fetch Rewards is to just shop for the products you already love. If you have any participating brands on your receipt, you'll get points based on the cost of the products. You don't need to clip any coupons or scan individual barcodes. Just scan each grocery receipt after you shop and we'll find the savings for you.                                                             |[the, easiest, way, to, earn, points, with, fetch, rewards, is, to, just, shop, for, the, products, you, already, love., if, you, have, any, participating, brands, on, your, receipt,, you'll, get, points, based, on, the, cost, of, the, products., you, don't, need, to, clip, any, coupons, or, scan, individual, barcodes., just, scan, each, grocery, receipt, after, you, shop, and, we'll, find, the, savings, for, you.]                                                                        |[easiest, way, earn, points, fetch, rewards, shop, products, already, love., participating, brands, receipt,, get, points, based, cost, products., need, clip, coupons, scan, individual, barcodes., scan, grocery, receipt, shop, find, savings, you.]                                                     |\n",
            "|1  |The easiest way to earn points with Fetch Rewards is to just shop for the items you already buy. If you have any eligible brands on your receipt, you will get points based on the total cost of the products. You do not need to cut out any coupons or scan individual UPCs. Just scan your receipt after you check out and we will find the savings for you.                                                               |[the, easiest, way, to, earn, points, with, fetch, rewards, is, to, just, shop, for, the, items, you, already, buy., if, you, have, any, eligible, brands, on, your, receipt,, you, will, get, points, based, on, the, total, cost, of, the, products., you, do, not, need, to, cut, out, any, coupons, or, scan, individual, upcs., just, scan, your, receipt, after, you, check, out, and, we, will, find, the, savings, for, you.]                                                                     |[easiest, way, earn, points, fetch, rewards, shop, items, already, buy., eligible, brands, receipt,, get, points, based, total, cost, products., need, cut, coupons, scan, individual, upcs., scan, receipt, check, find, savings, you.]                                                                    |\n",
            "|2  |We are always looking for opportunities for you to earn more points, which is why we also give you a selection of Special Offers. These Special Offers are opportunities to earn bonus points on top of the regular points you earn every time you purchase a participating brand. No need to pre-select these offers, we'll give you the points whether or not you knew about the offer. We just think it is easier that way.|[we, are, always, looking, for, opportunities, for, you, to, earn, more, points,, which, is, why, we, also, give, you, a, selection, of, special, offers., these, special, offers, are, opportunities, to, earn, bonus, points, on, top, of, the, regular, points, you, earn, every, time, you, purchase, a, participating, brand., no, need, to, pre-select, these, offers,, we'll, give, you, the, points, whether, or, not, you, knew, about, the, offer., we, just, think, it, is, easier, that, way.]|[always, looking, opportunities, earn, points,, also, give, selection, special, offers., special, offers, opportunities, earn, bonus, points, top, regular, points, earn, every, time, purchase, participating, brand., need, pre-select, offers,, give, points, whether, knew, offer., think, easier, way.]|\n",
            "+---+------------------------------------------------------------------------------------------------------------------------------------------------------------------------------------------------------------------------------------------------------------------------------------------------------------------------------------------------------------------------------------------------------------------------------+----------------------------------------------------------------------------------------------------------------------------------------------------------------------------------------------------------------------------------------------------------------------------------------------------------------------------------------------------------------------------------------------------------------------------------------------------------------------------------------------------------+------------------------------------------------------------------------------------------------------------------------------------------------------------------------------------------------------------------------------------------------------------------------------------------------------------+\n",
            "\n"
          ],
          "name": "stdout"
        }
      ]
    },
    {
      "cell_type": "code",
      "metadata": {
        "colab": {
          "base_uri": "https://localhost:8080/"
        },
        "id": "NvQOFSoFGDzC",
        "outputId": "c43cb427-5b2e-4f34-8b9a-86258d33f426"
      },
      "source": [
        "#run the hashing frequency \n",
        "hashing = HashingTF(inputCol= \"filtered\",outputCol = \"hashedValues\",numFeatures = pow(2,18))\n",
        "\n",
        "#transform into a DF\n",
        "hashed_df = hashing.transform (removed_frame)\n",
        "hashed_df.show(truncate = False)"
      ],
      "execution_count": 12,
      "outputs": [
        {
          "output_type": "stream",
          "text": [
            "+---+------------------------------------------------------------------------------------------------------------------------------------------------------------------------------------------------------------------------------------------------------------------------------------------------------------------------------------------------------------------------------------------------------------------------------+----------------------------------------------------------------------------------------------------------------------------------------------------------------------------------------------------------------------------------------------------------------------------------------------------------------------------------------------------------------------------------------------------------------------------------------------------------------------------------------------------------+------------------------------------------------------------------------------------------------------------------------------------------------------------------------------------------------------------------------------------------------------------------------------------------------------------+------------------------------------------------------------------------------------------------------------------------------------------------------------------------------------------------------------------------------------------------------------------------------------------------------------------------------+\n",
            "|id |sentence                                                                                                                                                                                                                                                                                                                                                                                                                      |words                                                                                                                                                                                                                                                                                                                                                                                                                                                                                                     |filtered                                                                                                                                                                                                                                                                                                    |hashedValues                                                                                                                                                                                                                                                                                                                  |\n",
            "+---+------------------------------------------------------------------------------------------------------------------------------------------------------------------------------------------------------------------------------------------------------------------------------------------------------------------------------------------------------------------------------------------------------------------------------+----------------------------------------------------------------------------------------------------------------------------------------------------------------------------------------------------------------------------------------------------------------------------------------------------------------------------------------------------------------------------------------------------------------------------------------------------------------------------------------------------------+------------------------------------------------------------------------------------------------------------------------------------------------------------------------------------------------------------------------------------------------------------------------------------------------------------+------------------------------------------------------------------------------------------------------------------------------------------------------------------------------------------------------------------------------------------------------------------------------------------------------------------------------+\n",
            "|0  |The easiest way to earn points with Fetch Rewards is to just shop for the products you already love. If you have any participating brands on your receipt, you'll get points based on the cost of the products. You don't need to clip any coupons or scan individual barcodes. Just scan each grocery receipt after you shop and we'll find the savings for you.                                                             |[the, easiest, way, to, earn, points, with, fetch, rewards, is, to, just, shop, for, the, products, you, already, love., if, you, have, any, participating, brands, on, your, receipt,, you'll, get, points, based, on, the, cost, of, the, products., you, don't, need, to, clip, any, coupons, or, scan, individual, barcodes., just, scan, each, grocery, receipt, after, you, shop, and, we'll, find, the, savings, for, you.]                                                                        |[easiest, way, earn, points, fetch, rewards, shop, products, already, love., participating, brands, receipt,, get, points, based, cost, products., need, clip, coupons, scan, individual, barcodes., scan, grocery, receipt, shop, find, savings, you.]                                                     |(262144,[2306,7678,9638,12168,16917,41550,48452,51471,69882,74318,83161,91878,94033,101670,115658,121140,146794,157270,165924,171874,173725,175319,209611,219606,220850,247354,252722,257129],[1.0,1.0,1.0,1.0,1.0,1.0,1.0,1.0,2.0,1.0,1.0,1.0,1.0,1.0,2.0,1.0,1.0,1.0,1.0,1.0,1.0,1.0,2.0,1.0,1.0,1.0,1.0,1.0])              |\n",
            "|1  |The easiest way to earn points with Fetch Rewards is to just shop for the items you already buy. If you have any eligible brands on your receipt, you will get points based on the total cost of the products. You do not need to cut out any coupons or scan individual UPCs. Just scan your receipt after you check out and we will find the savings for you.                                                               |[the, easiest, way, to, earn, points, with, fetch, rewards, is, to, just, shop, for, the, items, you, already, buy., if, you, have, any, eligible, brands, on, your, receipt,, you, will, get, points, based, on, the, total, cost, of, the, products., you, do, not, need, to, cut, out, any, coupons, or, scan, individual, upcs., just, scan, your, receipt, after, you, check, out, and, we, will, find, the, savings, for, you.]                                                                     |[easiest, way, earn, points, fetch, rewards, shop, items, already, buy., eligible, brands, receipt,, get, points, based, total, cost, products., need, cut, coupons, scan, individual, upcs., scan, receipt, check, find, savings, you.]                                                                    |(262144,[2306,9638,12168,16917,41550,48452,51471,69882,70936,83161,91878,94033,101670,102006,115658,117422,146794,157270,165924,175319,176551,198967,203005,209611,220850,247354,250632,252722,257129],[1.0,1.0,1.0,1.0,1.0,1.0,1.0,2.0,1.0,1.0,1.0,1.0,1.0,1.0,2.0,1.0,1.0,1.0,1.0,1.0,1.0,1.0,1.0,1.0,1.0,1.0,1.0,1.0,1.0]) |\n",
            "|2  |We are always looking for opportunities for you to earn more points, which is why we also give you a selection of Special Offers. These Special Offers are opportunities to earn bonus points on top of the regular points you earn every time you purchase a participating brand. No need to pre-select these offers, we'll give you the points whether or not you knew about the offer. We just think it is easier that way.|[we, are, always, looking, for, opportunities, for, you, to, earn, more, points,, which, is, why, we, also, give, you, a, selection, of, special, offers., these, special, offers, are, opportunities, to, earn, bonus, points, on, top, of, the, regular, points, you, earn, every, time, you, purchase, a, participating, brand., no, need, to, pre-select, these, offers,, we'll, give, you, the, points, whether, or, not, you, knew, about, the, offer., we, just, think, it, is, easier, that, way.]|[always, looking, opportunities, earn, points,, also, give, selection, special, offers., special, offers, opportunities, earn, bonus, points, top, regular, points, earn, every, time, purchase, participating, brand., need, pre-select, offers,, give, points, whether, knew, offer., think, easier, way.]|(262144,[991,12168,15370,15775,18176,20575,31315,31739,59465,79779,83161,103544,105929,107367,115658,121517,136385,147136,153423,163000,176497,176789,180475,182344,191633,198181,219606,249598,250238],[1.0,3.0,1.0,1.0,1.0,2.0,1.0,1.0,2.0,1.0,1.0,1.0,1.0,2.0,3.0,1.0,1.0,1.0,1.0,1.0,1.0,1.0,1.0,1.0,1.0,1.0,1.0,1.0,1.0])|\n",
            "+---+------------------------------------------------------------------------------------------------------------------------------------------------------------------------------------------------------------------------------------------------------------------------------------------------------------------------------------------------------------------------------------------------------------------------------+----------------------------------------------------------------------------------------------------------------------------------------------------------------------------------------------------------------------------------------------------------------------------------------------------------------------------------------------------------------------------------------------------------------------------------------------------------------------------------------------------------+------------------------------------------------------------------------------------------------------------------------------------------------------------------------------------------------------------------------------------------------------------------------------------------------------------+------------------------------------------------------------------------------------------------------------------------------------------------------------------------------------------------------------------------------------------------------------------------------------------------------------------------------+\n",
            "\n"
          ],
          "name": "stdout"
        }
      ]
    },
    {
      "cell_type": "code",
      "metadata": {
        "colab": {
          "base_uri": "https://localhost:8080/"
        },
        "id": "4WoqIZeiG5MR",
        "outputId": "897241cd-08e8-4893-9e3c-c5c617348c26"
      },
      "source": [
        "#fit the IDF on the dataset \n",
        "idf = IDF(inputCol = \"hashedValues\",outputCol = 'features')\n",
        "idfModel = idf.fit(hashed_df)\n",
        "rescaledData = idfModel.transform(hashed_df)\n",
        "\n",
        "#display the dataframe\n",
        "rescaledData.select(\"words\",\"features\").show(truncate = False)"
      ],
      "execution_count": 13,
      "outputs": [
        {
          "output_type": "stream",
          "text": [
            "+----------------------------------------------------------------------------------------------------------------------------------------------------------------------------------------------------------------------------------------------------------------------------------------------------------------------------------------------------------------------------------------------------------------------------------------------------------------------------------------------------------+-----------------------------------------------------------------------------------------------------------------------------------------------------------------------------------------------------------------------------------------------------------------------------------------------------------------------------------------------------------------------------------------------------------------------------------------------------------------------------------------------------------------------------------------------------------------------------------------------------------------------------------------------------------------------------------------------------------------------------------------------------+\n",
            "|words                                                                                                                                                                                                                                                                                                                                                                                                                                                                                                     |features                                                                                                                                                                                                                                                                                                                                                                                                                                                                                                                                                                                                                                                                                                                                             |\n",
            "+----------------------------------------------------------------------------------------------------------------------------------------------------------------------------------------------------------------------------------------------------------------------------------------------------------------------------------------------------------------------------------------------------------------------------------------------------------------------------------------------------------+-----------------------------------------------------------------------------------------------------------------------------------------------------------------------------------------------------------------------------------------------------------------------------------------------------------------------------------------------------------------------------------------------------------------------------------------------------------------------------------------------------------------------------------------------------------------------------------------------------------------------------------------------------------------------------------------------------------------------------------------------------+\n",
            "|[the, easiest, way, to, earn, points, with, fetch, rewards, is, to, just, shop, for, the, products, you, already, love., if, you, have, any, participating, brands, on, your, receipt,, you'll, get, points, based, on, the, cost, of, the, products., you, don't, need, to, clip, any, coupons, or, scan, individual, barcodes., just, scan, each, grocery, receipt, after, you, shop, and, we'll, find, the, savings, for, you.]                                                                        |(262144,[2306,7678,9638,12168,16917,41550,48452,51471,69882,74318,83161,91878,94033,101670,115658,121140,146794,157270,165924,171874,173725,175319,209611,219606,220850,247354,252722,257129],[0.28768207245178085,0.6931471805599453,0.28768207245178085,0.0,0.28768207245178085,0.28768207245178085,0.28768207245178085,0.28768207245178085,0.5753641449035617,0.6931471805599453,0.0,0.28768207245178085,0.28768207245178085,0.28768207245178085,0.0,0.6931471805599453,0.28768207245178085,0.28768207245178085,0.28768207245178085,0.6931471805599453,0.6931471805599453,0.28768207245178085,0.5753641449035617,0.28768207245178085,0.28768207245178085,0.28768207245178085,0.28768207245178085,0.28768207245178085])                            |\n",
            "|[the, easiest, way, to, earn, points, with, fetch, rewards, is, to, just, shop, for, the, items, you, already, buy., if, you, have, any, eligible, brands, on, your, receipt,, you, will, get, points, based, on, the, total, cost, of, the, products., you, do, not, need, to, cut, out, any, coupons, or, scan, individual, upcs., just, scan, your, receipt, after, you, check, out, and, we, will, find, the, savings, for, you.]                                                                     |(262144,[2306,9638,12168,16917,41550,48452,51471,69882,70936,83161,91878,94033,101670,102006,115658,117422,146794,157270,165924,175319,176551,198967,203005,209611,220850,247354,250632,252722,257129],[0.28768207245178085,0.28768207245178085,0.0,0.28768207245178085,0.28768207245178085,0.28768207245178085,0.28768207245178085,0.5753641449035617,0.6931471805599453,0.0,0.28768207245178085,0.28768207245178085,0.28768207245178085,0.6931471805599453,0.0,0.6931471805599453,0.28768207245178085,0.28768207245178085,0.28768207245178085,0.28768207245178085,0.6931471805599453,0.6931471805599453,0.6931471805599453,0.28768207245178085,0.28768207245178085,0.28768207245178085,0.6931471805599453,0.28768207245178085,0.28768207245178085])|\n",
            "|[we, are, always, looking, for, opportunities, for, you, to, earn, more, points,, which, is, why, we, also, give, you, a, selection, of, special, offers., these, special, offers, are, opportunities, to, earn, bonus, points, on, top, of, the, regular, points, you, earn, every, time, you, purchase, a, participating, brand., no, need, to, pre-select, these, offers,, we'll, give, you, the, points, whether, or, not, you, knew, about, the, offer., we, just, think, it, is, easier, that, way.]|(262144,[991,12168,15370,15775,18176,20575,31315,31739,59465,79779,83161,103544,105929,107367,115658,121517,136385,147136,153423,163000,176497,176789,180475,182344,191633,198181,219606,249598,250238],[0.6931471805599453,0.0,0.6931471805599453,0.6931471805599453,0.6931471805599453,1.3862943611198906,0.6931471805599453,0.6931471805599453,1.3862943611198906,0.6931471805599453,0.0,0.6931471805599453,0.6931471805599453,1.3862943611198906,0.0,0.6931471805599453,0.6931471805599453,0.6931471805599453,0.6931471805599453,0.6931471805599453,0.6931471805599453,0.6931471805599453,0.6931471805599453,0.6931471805599453,0.6931471805599453,0.6931471805599453,0.28768207245178085,0.6931471805599453,0.6931471805599453])                |\n",
            "+----------------------------------------------------------------------------------------------------------------------------------------------------------------------------------------------------------------------------------------------------------------------------------------------------------------------------------------------------------------------------------------------------------------------------------------------------------------------------------------------------------+-----------------------------------------------------------------------------------------------------------------------------------------------------------------------------------------------------------------------------------------------------------------------------------------------------------------------------------------------------------------------------------------------------------------------------------------------------------------------------------------------------------------------------------------------------------------------------------------------------------------------------------------------------------------------------------------------------------------------------------------------------+\n",
            "\n"
          ],
          "name": "stdout"
        }
      ]
    },
    {
      "cell_type": "code",
      "metadata": {
        "id": "nxOr3TBoHpud"
      },
      "source": [
        "from pyspark.ml.feature import VectorAssembler\n",
        "from pyspark.ml.linalg import Vector\n",
        "# Create feature vectors\n",
        "clean_up = VectorAssembler(inputCols=['idf_token', 'length'], outputCol='features')"
      ],
      "execution_count": 14,
      "outputs": []
    },
    {
      "cell_type": "code",
      "metadata": {
        "id": "qle6qKomIA3c"
      },
      "source": [
        "#create all the features to the data set\n",
        "pos_neg_to_num = StringIndexer(inputCol='id',outputCol='label')\n",
        "tokenizer = Tokenizer(inputCol=\"sentence\", outputCol=\"token_text\")\n",
        "stopremove = StopWordsRemover(inputCol='token_text',outputCol='stop_tokens')\n",
        "hashingTF = HashingTF(inputCol=\"stop_tokens\", outputCol='hash_token')\n",
        "idf = IDF(inputCol='hash_token', outputCol='idf_token')"
      ],
      "execution_count": 27,
      "outputs": []
    },
    {
      "cell_type": "code",
      "metadata": {
        "id": "0krq2sC1IRre"
      },
      "source": [
        "# Create and run a data processing Pipeline\n",
        "from pyspark.ml import Pipeline\n",
        "data_prep_pipeline = Pipeline(stages=[pos_neg_to_num,tokenizer, stopremove, hashingTF, idf, clean_up])"
      ],
      "execution_count": 28,
      "outputs": []
    },
    {
      "cell_type": "code",
      "metadata": {
        "id": "ACiiNU0CIYj_"
      },
      "source": [
        "# Fit and transform the pipeline\n",
        "cleaner = data_prep_pipeline.fit(data_df)\n",
        "cleaned = cleaner.transform(data_df)"
      ],
      "execution_count": 29,
      "outputs": []
    },
    {
      "cell_type": "code",
      "metadata": {
        "colab": {
          "base_uri": "https://localhost:8080/"
        },
        "id": "K2bA9VdIJ8vc",
        "outputId": "dfcf042e-5c2a-4aae-e081-49a134600dcb"
      },
      "source": [
        "#show label and resulting features\n",
        "cleaned.select(['label','features']).show()"
      ],
      "execution_count": 32,
      "outputs": [
        {
          "output_type": "stream",
          "text": [
            "+-----+--------------------+\n",
            "|label|            features|\n",
            "+-----+--------------------+\n",
            "|  0.0|(262145,[2306,767...|\n",
            "|  1.0|(262145,[2306,963...|\n",
            "|  2.0|(262145,[991,1537...|\n",
            "+-----+--------------------+\n",
            "\n"
          ],
          "name": "stdout"
        }
      ]
    },
    {
      "cell_type": "code",
      "metadata": {
        "id": "1-9OLNC4IjE1"
      },
      "source": [
        "# Break data down into a training set and a testing set\n",
        "training, testing = cleaned.randomSplit([0.7, 0.3], 21)"
      ],
      "execution_count": 30,
      "outputs": []
    },
    {
      "cell_type": "code",
      "metadata": {
        "id": "H1Z8Hw7SIsFf"
      },
      "source": [
        "from pyspark.ml.classification import NaiveBayes\n",
        "# Create a Naive Bayes model and fit training data\n",
        "nb = NaiveBayes()\n",
        "predictor = nb.fit(training)"
      ],
      "execution_count": 33,
      "outputs": []
    },
    {
      "cell_type": "code",
      "metadata": {
        "colab": {
          "base_uri": "https://localhost:8080/"
        },
        "id": "f1bKpsHhK2_3",
        "outputId": "766802a7-cee4-4c0d-8e63-a8bc9fb066cf"
      },
      "source": [
        "#transform the model with testing data\n",
        "test_results = predictor.transform(testing)\n",
        "test_results.show()"
      ],
      "execution_count": 34,
      "outputs": [
        {
          "output_type": "stream",
          "text": [
            "+---+--------+------+-----+----------+-----------+----------+---------+--------+-------------+-----------+----------+\n",
            "| id|sentence|length|label|token_text|stop_tokens|hash_token|idf_token|features|rawPrediction|probability|prediction|\n",
            "+---+--------+------+-----+----------+-----------+----------+---------+--------+-------------+-----------+----------+\n",
            "+---+--------+------+-----+----------+-----------+----------+---------+--------+-------------+-----------+----------+\n",
            "\n"
          ],
          "name": "stdout"
        }
      ]
    }
  ]
}